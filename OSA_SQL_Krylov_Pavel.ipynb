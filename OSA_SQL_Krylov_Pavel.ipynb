{
 "cells": [
  {
   "cell_type": "markdown",
   "metadata": {},
   "source": [
    "# <center> Тестовое задание OSA Hybrid Platform </center>"
   ]
  },
  {
   "cell_type": "markdown",
   "metadata": {},
   "source": [
    "\"База данных имеет следующие реквизиты: хост - 188.93.23.29, порт - 5432, имя базы - test_db, логин пользователя - candidate, пароль - e2e4. Используемая СУБД - PostgreSQL 9.5.6. В качестве клиента можно использовать SQL Workbench/J (не то же самое, что MySQL Workbench), DBeaver, DataGrip, Navicat или PG Admin. При возникновении проблем с подключением можете писать нам.\n",
    "\n",
    "Таблица osa_posdata_april_5_stores содержит чековые данные по 5 магазинам за апрель 2016 года. Таблица categories содержит данные о товарной иерархии, то есть о том, как товары структурированы по вложенным категориям. Таблица products содержит базовую информацию о каждом отдельном товаре, идентифицируемом по plu (Product Lookup Code). Назначение отдельных колонок этих таблиц и связи между ними нужно определить самостоятельно, проведя какие-либо эксперименты, основанные на здравом смысле и понимании того, что такое магазинные чеки.\n",
    "\n",
    "Задача состоит из двух пунктов.\n",
    "\n",
    "В первом требуется написать запрос, для каждого из дней апреля 2016 года возвращающий количество уникальных чеков, содержащих хотя бы один товар категории \"Молоко\" (id = FR0604000).\n",
    "\n",
    "Во втором пункте требуется написать запрос, для каждого из покупателей, обладающих картой лояльности, возвращающий медианное значение интервалов между покупками, совершаемыми этим покупателем (датой покупки считается дата пробития чека и можно считать, что карта лояльности не передаётся другим людям)\".\n"
   ]
  },
  {
   "cell_type": "code",
   "execution_count": 1,
   "metadata": {
    "collapsed": false
   },
   "outputs": [],
   "source": [
    "import pandas as pd\n",
    "import psycopg2"
   ]
  },
  {
   "cell_type": "code",
   "execution_count": 2,
   "metadata": {
    "collapsed": false
   },
   "outputs": [],
   "source": [
    "def pg_query(host=None, query=None, as_df=True):    \n",
    "    try:\n",
    "        pgdb = psycopg2.connect(dbname=\"test_db\", user=\"candidate\", password=\"e2e4\", host=\"188.93.23.29\")        \n",
    "\n",
    "        if as_df:\n",
    "            df = pd.read_sql(query, pgdb)\n",
    "            pgdb.close()\n",
    "            return df\n",
    "        else:\n",
    "            pgcursor = pgdb.cursor()\n",
    "            pgcursor.execute(query)\n",
    "            data = [_ for _ in pgcursor.fetchall()]\n",
    "            colnames = [desc[0] for desc in pgcursor.description]\n",
    "            pgcursor.close()\n",
    "            pgdb.close()\n",
    "            return colnames, data\n",
    "\n",
    "    except Exception as e:\n",
    "        pgdb.close()\n",
    "        print(e)\n",
    "        return None, None\n",
    "    finally:\n",
    "        pgdb.close()"
   ]
  },
  {
   "cell_type": "markdown",
   "metadata": {},
   "source": [
    "Поскольку по категории \"Молоко\" id = FR0604000 запрос в таблицу приходил пустой, сделано решения для молочных продуктов с id = FR060400* "
   ]
  },
  {
   "cell_type": "code",
   "execution_count": 3,
   "metadata": {
    "collapsed": true
   },
   "outputs": [],
   "source": [
    "query1 = \"\"\"\n",
    "SELECT DATE(check_date_time), COUNT(check_number) AS Counts\n",
    "FROM public.osa_posdata_april_5_stores\n",
    "WHERE plu IN\n",
    "    (SELECT plu FROM public.products\n",
    "    WHERE category_id LIKE  'FR060400_')  /*ищем всю молочную продукцию */\n",
    "GROUP BY DATE(check_date_time);\n",
    "\"\"\""
   ]
  },
  {
   "cell_type": "code",
   "execution_count": 4,
   "metadata": {
    "collapsed": false
   },
   "outputs": [
    {
     "data": {
      "text/html": [
       "<div>\n",
       "<table border=\"1\" class=\"dataframe\">\n",
       "  <thead>\n",
       "    <tr style=\"text-align: right;\">\n",
       "      <th></th>\n",
       "      <th>date</th>\n",
       "      <th>counts</th>\n",
       "    </tr>\n",
       "  </thead>\n",
       "  <tbody>\n",
       "    <tr>\n",
       "      <th>0</th>\n",
       "      <td>2016-04-01</td>\n",
       "      <td>4190</td>\n",
       "    </tr>\n",
       "    <tr>\n",
       "      <th>1</th>\n",
       "      <td>2016-04-23</td>\n",
       "      <td>4000</td>\n",
       "    </tr>\n",
       "    <tr>\n",
       "      <th>2</th>\n",
       "      <td>2016-04-15</td>\n",
       "      <td>4978</td>\n",
       "    </tr>\n",
       "    <tr>\n",
       "      <th>3</th>\n",
       "      <td>2016-04-30</td>\n",
       "      <td>3766</td>\n",
       "    </tr>\n",
       "    <tr>\n",
       "      <th>4</th>\n",
       "      <td>2016-04-16</td>\n",
       "      <td>4321</td>\n",
       "    </tr>\n",
       "    <tr>\n",
       "      <th>5</th>\n",
       "      <td>2016-04-11</td>\n",
       "      <td>4167</td>\n",
       "    </tr>\n",
       "    <tr>\n",
       "      <th>6</th>\n",
       "      <td>2016-04-29</td>\n",
       "      <td>4309</td>\n",
       "    </tr>\n",
       "    <tr>\n",
       "      <th>7</th>\n",
       "      <td>2016-04-14</td>\n",
       "      <td>4545</td>\n",
       "    </tr>\n",
       "    <tr>\n",
       "      <th>8</th>\n",
       "      <td>2016-04-26</td>\n",
       "      <td>4137</td>\n",
       "    </tr>\n",
       "    <tr>\n",
       "      <th>9</th>\n",
       "      <td>2016-04-13</td>\n",
       "      <td>3883</td>\n",
       "    </tr>\n",
       "  </tbody>\n",
       "</table>\n",
       "</div>"
      ],
      "text/plain": [
       "         date  counts\n",
       "0  2016-04-01    4190\n",
       "1  2016-04-23    4000\n",
       "2  2016-04-15    4978\n",
       "3  2016-04-30    3766\n",
       "4  2016-04-16    4321\n",
       "5  2016-04-11    4167\n",
       "6  2016-04-29    4309\n",
       "7  2016-04-14    4545\n",
       "8  2016-04-26    4137\n",
       "9  2016-04-13    3883"
      ]
     },
     "execution_count": 4,
     "metadata": {},
     "output_type": "execute_result"
    }
   ],
   "source": [
    "df = pg_query(query=query1)\n",
    "df[:10]"
   ]
  },
  {
   "cell_type": "code",
   "execution_count": 5,
   "metadata": {
    "collapsed": true
   },
   "outputs": [],
   "source": [
    "query2 = \"\"\"\n",
    "SELECT \n",
    "    loyalty_card,     \n",
    "    percentile_cont(0.5) WITHIN GROUP (ORDER BY EXTRACT(DAY FROM (check_date_time))) AS  median_date_time\n",
    "FROM public.osa_posdata_april_5_stores \n",
    "GROUP BY loyalty_card ;\n",
    "\"\"\""
   ]
  },
  {
   "cell_type": "code",
   "execution_count": 6,
   "metadata": {
    "collapsed": false,
    "scrolled": false
   },
   "outputs": [
    {
     "data": {
      "text/html": [
       "<div>\n",
       "<table border=\"1\" class=\"dataframe\">\n",
       "  <thead>\n",
       "    <tr style=\"text-align: right;\">\n",
       "      <th></th>\n",
       "      <th>loyalty_card</th>\n",
       "      <th>median_date_time</th>\n",
       "    </tr>\n",
       "  </thead>\n",
       "  <tbody>\n",
       "    <tr>\n",
       "      <th>0</th>\n",
       "      <td>7000246170</td>\n",
       "      <td>15.0</td>\n",
       "    </tr>\n",
       "    <tr>\n",
       "      <th>1</th>\n",
       "      <td>7003981617</td>\n",
       "      <td>6.0</td>\n",
       "    </tr>\n",
       "    <tr>\n",
       "      <th>2</th>\n",
       "      <td>7004061500</td>\n",
       "      <td>26.0</td>\n",
       "    </tr>\n",
       "    <tr>\n",
       "      <th>3</th>\n",
       "      <td>7008059559</td>\n",
       "      <td>30.0</td>\n",
       "    </tr>\n",
       "    <tr>\n",
       "      <th>4</th>\n",
       "      <td>7008979079</td>\n",
       "      <td>6.0</td>\n",
       "    </tr>\n",
       "    <tr>\n",
       "      <th>5</th>\n",
       "      <td>7008985530</td>\n",
       "      <td>25.0</td>\n",
       "    </tr>\n",
       "    <tr>\n",
       "      <th>6</th>\n",
       "      <td>7010210737</td>\n",
       "      <td>6.0</td>\n",
       "    </tr>\n",
       "    <tr>\n",
       "      <th>7</th>\n",
       "      <td>7020303175</td>\n",
       "      <td>28.0</td>\n",
       "    </tr>\n",
       "    <tr>\n",
       "      <th>8</th>\n",
       "      <td>7020426224</td>\n",
       "      <td>1.0</td>\n",
       "    </tr>\n",
       "    <tr>\n",
       "      <th>9</th>\n",
       "      <td>7020429137</td>\n",
       "      <td>12.0</td>\n",
       "    </tr>\n",
       "  </tbody>\n",
       "</table>\n",
       "</div>"
      ],
      "text/plain": [
       "  loyalty_card  median_date_time\n",
       "0   7000246170              15.0\n",
       "1   7003981617               6.0\n",
       "2   7004061500              26.0\n",
       "3   7008059559              30.0\n",
       "4   7008979079               6.0\n",
       "5   7008985530              25.0\n",
       "6   7010210737               6.0\n",
       "7   7020303175              28.0\n",
       "8   7020426224               1.0\n",
       "9   7020429137              12.0"
      ]
     },
     "execution_count": 6,
     "metadata": {},
     "output_type": "execute_result"
    }
   ],
   "source": [
    "df = pg_query(query=query2)\n",
    "df[:10]"
   ]
  },
  {
   "cell_type": "code",
   "execution_count": 7,
   "metadata": {
    "collapsed": true
   },
   "outputs": [],
   "source": [
    "del df"
   ]
  },
  {
   "cell_type": "code",
   "execution_count": null,
   "metadata": {
    "collapsed": true
   },
   "outputs": [],
   "source": []
  }
 ],
 "metadata": {
  "kernelspec": {
   "display_name": "Python 3",
   "language": "python",
   "name": "python3"
  },
  "language_info": {
   "codemirror_mode": {
    "name": "ipython",
    "version": 3
   },
   "file_extension": ".py",
   "mimetype": "text/x-python",
   "name": "python",
   "nbconvert_exporter": "python",
   "pygments_lexer": "ipython3",
   "version": "3.6.0"
  }
 },
 "nbformat": 4,
 "nbformat_minor": 2
}
